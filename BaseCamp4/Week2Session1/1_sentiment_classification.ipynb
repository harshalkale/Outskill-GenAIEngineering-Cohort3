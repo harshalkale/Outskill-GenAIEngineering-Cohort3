{
 "cells": [
  {
   "cell_type": "markdown",
   "id": "215f1515",
   "metadata": {},
   "source": [
    "## Libraries Explained\n",
    "\n",
    "\n",
    "- **huggingface_hub**:\n",
    "  - **HfApi**: Provides programmatic access to the Hugging Face model hub for uploading, downloading, and managing models.\n",
    "  - **hf_hub_download**: Simplifies downloading model files from the Hugging Face hub to your local environment.\n",
    "\n",
    "- **transformers**: Offers pre-trained models for natural language processing tasks. The `pipeline` function specifically provides an easy-to-use interface for common NLP tasks like text generation, sentiment analysis, and question answering.\n"
   ]
  },
  {
   "cell_type": "code",
   "execution_count": null,
   "id": "4fe4b420",
   "metadata": {
    "vscode": {
     "languageId": "plaintext"
    }
   },
   "outputs": [],
   "source": [
    "import os, json, datetime\n",
    "from datetime import datetime\n",
    "# from dotenv import load_dotenv\n",
    "\n",
    "from huggingface_hub import HfApi\n",
    "from huggingface_hub import hf_hub_download\n",
    "\n",
    "from transformers import pipeline"
   ]
  },
  {
   "cell_type": "markdown",
   "id": "8e1a0806",
   "metadata": {},
   "source": [
    "# Set up your hf token and assign it to a variable here"
   ]
  },
  {
   "cell_type": "code",
   "execution_count": null,
   "id": "dd971f62",
   "metadata": {
    "vscode": {
     "languageId": "plaintext"
    }
   },
   "outputs": [],
   "source": [
    "from google.colab import userdata\n",
    "\n",
    "hf_key=userdata.get(\"HF_TOKEN\")"
   ]
  },
  {
   "cell_type": "markdown",
   "id": "4c7cb60d",
   "metadata": {},
   "source": [
    "# Hugging Face Model Reference\n",
    "\n",
    "[distilbert/distilbert-base-uncased-finetuned-sst-2-english](https://huggingface.co/distilbert/distilbert-base-uncased-finetuned-sst-2-english)\n",
    "\n",
    "This code defines a reference to a specific model from the Hugging Face Model Hub. The model referenced is:\n",
    "\n",
    "- **Model**: `distilbert-base-uncased-finetuned-sst-2-english`\n",
    "- **Creator/Organization**: `distilbert`\n",
    "- **Description**: This is a DistilBERT model that has been fine-tuned on the Stanford Sentiment Treebank v2 (SST-2) dataset for sentiment analysis tasks. It can classify text as either positive or negative sentiment.\n",
    "- **Architecture**: DistilBERT (a distilled version of BERT that is smaller, faster, and requires fewer resources while maintaining good performance)\n",
    "- **Use Case**: Sentiment analysis and classification"
   ]
  },
  {
   "cell_type": "code",
   "execution_count": null,
   "id": "f3277b8c",
   "metadata": {
    "vscode": {
     "languageId": "plaintext"
    }
   },
   "outputs": [],
   "source": [
    "hf_reference='distilbert/distilbert-base-uncased-finetuned-sst-2-english'"
   ]
  },
  {
   "cell_type": "markdown",
   "id": "7c5f3485",
   "metadata": {},
   "source": [
    "# Using Hugging Face Inference API\n",
    "\n",
    "\n",
    "This code demonstrates how to use the Hugging Face Inference API for text classification:\n",
    "\n",
    "1. **Import**: First, the `InferenceClient` class is imported from the `huggingface_hub` package.\n",
    "\n",
    "2. **Client Initialization**: An `InferenceClient` object is created with:\n",
    "   - `provider=\"hf-inference\"` - Specifies using Hugging Face's hosted inference API\n",
    "   - `api_key=hf_key` - Uses the previously loaded API token for authentication\n",
    "\n",
    "3. **Text Classification**: The client performs sentiment analysis on the text \"I like you. I love you\" using the DistilBERT model defined earlier in `hf_reference`.\n",
    "\n",
    "4. **Result**: The final line will display the classification results, which typically include the predicted labels (positive/negative) and their associated confidence scores."
   ]
  },
  {
   "cell_type": "code",
   "execution_count": null,
   "id": "b68cf046",
   "metadata": {
    "vscode": {
     "languageId": "plaintext"
    }
   },
   "outputs": [],
   "source": [
    "from huggingface_hub import InferenceClient\n",
    "client = InferenceClient(provider=\"hf-inference\",api_key=hf_key,)\n",
    "\n",
    "result = client.text_classification(text=\"Oh wow, that's just splendidd!\",model=hf_reference)\n",
    "result"
   ]
  },
  {
   "cell_type": "markdown",
   "id": "19189940",
   "metadata": {},
   "source": [
    "\n",
    "# Downloading Specific Model Files from Hugging Face Hub\n",
    "\n",
    "\n",
    "This code snippet demonstrates how to selectively download specific files from a Hugging Face model repository:\n",
    "\n",
    "1. **File Definition**: First, a list of commonly required files for transformer models is defined, with comments explaining each file's purpose:\n",
    "   - Vocabulary files for tokenization\n",
    "   - Configuration files for model architecture\n",
    "   - Tokenizer files for text preprocessing\n",
    "   - Model weights in different formats (PyTorch and SafeTensors)\n",
    "\n",
    "2. **Selective Download**: The code iterates through each file in the list and:\n",
    "   - Attempts to download it using `hf_hub_download()`\n",
    "   - Specifies the model repository via `repo_id=hf_reference`\n",
    "   - Saves files to a local directory structure based on the model name\n",
    "   - Prints the local path where each file is saved\n",
    "\n",
    "3. **Error Handling**: The try-except block catches and reports any download failures, allowing the process to continue even if certain files aren't available for the specific model."
   ]
  },
  {
   "cell_type": "code",
   "execution_count": null,
   "id": "4d1f4d09",
   "metadata": {
    "vscode": {
     "languageId": "plaintext"
    }
   },
   "outputs": [],
   "source": [
    "# List of required files\n",
    "required_files = [\n",
    "    \"vocab.txt\",          # Vocabulary file (if applicable)\n",
    "    \"vocab.json\",          # Vocabulary file (if applicable)\n",
    "    \"config.json\",        # Model configuration\n",
    "    \"tokenizer.json\",     # Tokenizer configuration (if applicable)\n",
    "    \"tokenizer_config.json\",     # Tokenizer configuration (if applicable)\n",
    "    \"merges.txt\",         # BPE merge rules file (if applicable)\n",
    "    \"pytorch_model.bin\",  # Model weights\n",
    "    \"model.safetensors\",  # Alternative model weights format\n",
    "]\n",
    "\n",
    "\n",
    "# Download only the required files\n",
    "for file_name in required_files:\n",
    "    try:\n",
    "        print()\n",
    "        print(f\"Attempting to download: {file_name}\")\n",
    "        local_path = hf_hub_download(repo_id=hf_reference, filename=file_name, local_dir=f\"models/{hf_reference.split('/')[1]}\")\n",
    "        print(f\"Saved to: {local_path}\")\n",
    "    except Exception as e:\n",
    "        print(f\"Could not download {file_name}: {e}\")"
   ]
  },
  {
   "cell_type": "markdown",
   "id": "cc58a5e1",
   "metadata": {},
   "source": [
    "\n",
    "# Creating Sentiment Analysis Pipelines\n",
    "\n",
    "\n",
    "This code initializes two sentiment analysis pipelines using Hugging Face's `transformers` library:\n",
    "\n",
    "1. **Cached Model Pipeline**:\n",
    "   - `hf_model_cache` uses the model identifier directly (`hf_reference`)\n",
    "   - When this pipeline runs, it will first check the default Hugging Face cache directory on your system\n",
    "   - If not found in cache, it automatically downloads the model from Hugging Face Hub\n",
    "\n",
    "2. **Local Model Pipeline**:\n",
    "   - `hf_model_local` uses the previously downloaded model files\n",
    "   - Points to the local directory where model files were saved earlier\n",
    "   - Loads the model from the local files rather than downloading or using cache\n",
    "   - Path is constructed by extracting just the model name from the reference\n",
    "\n",
    "Both pipelines provide the same sentiment analysis functionality but differ in where they source the model files from, allowing flexibility between network-dependent and offline usage."
   ]
  },
  {
   "cell_type": "code",
   "execution_count": null,
   "id": "2953e0c6",
   "metadata": {
    "vscode": {
     "languageId": "plaintext"
    }
   },
   "outputs": [],
   "source": [
    "# hf_model_cache = pipeline(\"sentiment-analysis\", model=hf_reference)\n",
    "# pipeline is just a func\n",
    "hf_model_local = pipeline(\"sentiment-analysis\", model=f\"models/{hf_reference.split('/')[1]}\")"
   ]
  },
  {
   "cell_type": "markdown",
   "id": "98756295",
   "metadata": {},
   "source": [
    "# Testing the Sentiment Analysis Model\n",
    "\n",
    "\n",
    "This code demonstrates how to use the local sentiment analysis pipeline:\n",
    "\n",
    "1. **Input Text**: Defines a medical text about high blood sugar and blood pressure readings\n",
    "\n",
    "2. **Model Inference**: Passes the text to the previously initialized local sentiment analysis model (`hf_model_local`)\n",
    "\n",
    "3. **Output Display**: Prints the classification results, which typically include:\n",
    "   - The predicted sentiment label (POSITIVE or NEGATIVE)\n",
    "   - A confidence score indicating the model's certainty\n",
    "   \n",
    "Note that this medical statement is factual rather than emotionally charged, so the model's sentiment prediction may not be particularly meaningful in this context. Sentiment analysis models work best with text that expresses opinions or emotional reactions."
   ]
  },
  {
   "cell_type": "code",
   "execution_count": null,
   "id": "bd0c8964",
   "metadata": {
    "vscode": {
     "languageId": "plaintext"
    }
   },
   "outputs": [],
   "source": [
    "text = \"The Medical reports reveal Blood sugar and Blood pressure are high\"\n",
    "print(hf_model_local(text))"
   ]
  },
  {
   "cell_type": "code",
   "execution_count": null,
   "id": "cd55d433",
   "metadata": {
    "vscode": {
     "languageId": "plaintext"
    }
   },
   "outputs": [],
   "source": [
    "text = \"The Medical reports reveal Blood sugar and Blood pressure are normal\"\n",
    "print(hf_model_local(text))"
   ]
  },
  {
   "cell_type": "code",
   "execution_count": null,
   "id": "ef423d42",
   "metadata": {
    "vscode": {
     "languageId": "plaintext"
    }
   },
   "outputs": [],
   "source": [
    "text = \"The students from this school score very high marks\"\n",
    "print(hf_model_local(text))"
   ]
  },
  {
   "cell_type": "code",
   "execution_count": null,
   "id": "a92dc3b7",
   "metadata": {
    "vscode": {
     "languageId": "plaintext"
    }
   },
   "outputs": [],
   "source": [
    "text = \"Do we take a break for 5 mins right now?\"\n",
    "print(hf_model_cache(text))"
   ]
  },
  {
   "cell_type": "markdown",
   "id": "57cdd991",
   "metadata": {},
   "source": [
    "# Serialize and Save Model Information from Hugging Face Hub\n",
    "\n",
    "\n",
    "This code demonstrates how to retrieve, serialize, and save detailed model information from the Hugging Face Hub:\n",
    "\n",
    "1. **Serialization Function**: The `serialize_object()` function handles complex objects recursively:\n",
    "   - Converts datetime objects to ISO format strings\n",
    "   - Transforms objects with `__dict__` attributes into dictionaries\n",
    "   - Processes nested lists and dictionaries\n",
    "   - Preserves primitive data types\n",
    "\n",
    "2. **API Interaction**: Creates an instance of the Hugging Face API client\n",
    "\n",
    "3. **Model Information**: Fetches comprehensive metadata about the specified model using `api.model_info()`\n",
    "\n",
    "4. **File Operations**:\n",
    "   - Extracts the model name from the reference path\n",
    "   - Creates a JSON file named after the model\n",
    "   - Serializes the model information and writes it to the file\n",
    "\n",
    "This allows for local storage of model metadata for later reference or analysis, particularly useful for model governance, versioning, and documentation purposes."
   ]
  },
  {
   "cell_type": "code",
   "execution_count": null,
   "id": "aa5c99b7",
   "metadata": {
    "vscode": {
     "languageId": "plaintext"
    }
   },
   "outputs": [],
   "source": [
    "def serialize_object(obj):\n",
    "    \"\"\"\n",
    "    Helper function to serialize custom objects like EvalResult.\n",
    "    Converts objects with __dict__ attribute to dictionaries and handles datetime objects.\n",
    "    \"\"\"\n",
    "    if isinstance(obj, datetime):\n",
    "        return obj.isoformat()  # Convert datetime to ISO 8601 string\n",
    "    elif hasattr(obj, \"__dict__\"):\n",
    "        return {key: serialize_object(value) for key, value in obj.__dict__.items()}\n",
    "    elif isinstance(obj, list):\n",
    "        return [serialize_object(item) for item in obj]\n",
    "    elif isinstance(obj, dict):\n",
    "        return {key: serialize_object(value) for key, value in obj.items()}\n",
    "    else:\n",
    "        return obj  # Return the value as-is for primitive types\n",
    "\n",
    "api = HfApi()\n",
    "with open(f\"models/{hf_reference.split('/')[1]}.json\", \"w\") as json_file:\n",
    "    json_file.write(json.dumps(serialize_object(api.model_info(hf_reference))))\n"
   ]
  }
 ],
 "metadata": {
  "language_info": {
   "name": "python"
  }
 },
 "nbformat": 4,
 "nbformat_minor": 5
}
